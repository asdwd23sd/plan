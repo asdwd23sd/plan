{
  "nbformat": 4,
  "nbformat_minor": 0,
  "metadata": {
    "colab": {
      "provenance": [],
      "collapsed_sections": [
        "p2oq8fMf95Dn",
        "sZq32g3H-AtX",
        "-4BudF_m7T-z",
        "k73ebx4e2tHW"
      ]
    },
    "kernelspec": {
      "name": "python3",
      "display_name": "Python 3"
    },
    "language_info": {
      "name": "python"
    }
  },
  "cells": [
    {
      "cell_type": "markdown",
      "source": [
        "# ***Install Pennylane***"
      ],
      "metadata": {
        "id": "p2oq8fMf95Dn"
      }
    },
    {
      "cell_type": "code",
      "execution_count": 1,
      "metadata": {
        "id": "jT86qp_rntGe",
        "colab": {
          "base_uri": "https://localhost:8080/"
        },
        "outputId": "9c34d8c8-f32d-47a8-8c67-146955258e81"
      },
      "outputs": [
        {
          "output_type": "stream",
          "name": "stdout",
          "text": [
            "Collecting pennylane\n",
            "  Downloading PennyLane-0.40.0-py3-none-any.whl.metadata (10 kB)\n",
            "Requirement already satisfied: numpy<2.1 in /usr/local/lib/python3.11/dist-packages (from pennylane) (1.26.4)\n",
            "Requirement already satisfied: scipy in /usr/local/lib/python3.11/dist-packages (from pennylane) (1.14.1)\n",
            "Requirement already satisfied: networkx in /usr/local/lib/python3.11/dist-packages (from pennylane) (3.4.2)\n",
            "Collecting rustworkx>=0.14.0 (from pennylane)\n",
            "  Downloading rustworkx-0.16.0-cp39-abi3-manylinux_2_17_x86_64.manylinux2014_x86_64.whl.metadata (10 kB)\n",
            "Requirement already satisfied: autograd in /usr/local/lib/python3.11/dist-packages (from pennylane) (1.7.0)\n",
            "Collecting tomlkit (from pennylane)\n",
            "  Downloading tomlkit-0.13.2-py3-none-any.whl.metadata (2.7 kB)\n",
            "Collecting appdirs (from pennylane)\n",
            "  Downloading appdirs-1.4.4-py2.py3-none-any.whl.metadata (9.0 kB)\n",
            "Collecting autoray>=0.6.11 (from pennylane)\n",
            "  Downloading autoray-0.7.1-py3-none-any.whl.metadata (5.8 kB)\n",
            "Requirement already satisfied: cachetools in /usr/local/lib/python3.11/dist-packages (from pennylane) (5.5.2)\n",
            "Collecting pennylane-lightning>=0.40 (from pennylane)\n",
            "  Downloading PennyLane_Lightning-0.40.0-cp311-cp311-manylinux_2_28_x86_64.whl.metadata (27 kB)\n",
            "Requirement already satisfied: requests in /usr/local/lib/python3.11/dist-packages (from pennylane) (2.32.3)\n",
            "Requirement already satisfied: typing-extensions in /usr/local/lib/python3.11/dist-packages (from pennylane) (4.12.2)\n",
            "Requirement already satisfied: packaging in /usr/local/lib/python3.11/dist-packages (from pennylane) (24.2)\n",
            "Collecting diastatic-malt (from pennylane)\n",
            "  Downloading diastatic_malt-2.15.2-py3-none-any.whl.metadata (2.6 kB)\n",
            "Collecting scipy-openblas32>=0.3.26 (from pennylane-lightning>=0.40->pennylane)\n",
            "  Downloading scipy_openblas32-0.3.29.0.0-py3-none-manylinux_2_17_x86_64.manylinux2014_x86_64.whl.metadata (56 kB)\n",
            "\u001b[2K     \u001b[90m━━━━━━━━━━━━━━━━━━━━━━━━━━━━━━━━━━━━━━━━\u001b[0m \u001b[32m56.1/56.1 kB\u001b[0m \u001b[31m1.6 MB/s\u001b[0m eta \u001b[36m0:00:00\u001b[0m\n",
            "\u001b[?25hRequirement already satisfied: astunparse in /usr/local/lib/python3.11/dist-packages (from diastatic-malt->pennylane) (1.6.3)\n",
            "Requirement already satisfied: gast in /usr/local/lib/python3.11/dist-packages (from diastatic-malt->pennylane) (0.6.0)\n",
            "Requirement already satisfied: termcolor in /usr/local/lib/python3.11/dist-packages (from diastatic-malt->pennylane) (2.5.0)\n",
            "Requirement already satisfied: charset-normalizer<4,>=2 in /usr/local/lib/python3.11/dist-packages (from requests->pennylane) (3.4.1)\n",
            "Requirement already satisfied: idna<4,>=2.5 in /usr/local/lib/python3.11/dist-packages (from requests->pennylane) (3.10)\n",
            "Requirement already satisfied: urllib3<3,>=1.21.1 in /usr/local/lib/python3.11/dist-packages (from requests->pennylane) (2.3.0)\n",
            "Requirement already satisfied: certifi>=2017.4.17 in /usr/local/lib/python3.11/dist-packages (from requests->pennylane) (2025.1.31)\n",
            "Requirement already satisfied: wheel<1.0,>=0.23.0 in /usr/local/lib/python3.11/dist-packages (from astunparse->diastatic-malt->pennylane) (0.45.1)\n",
            "Requirement already satisfied: six<2.0,>=1.6.1 in /usr/local/lib/python3.11/dist-packages (from astunparse->diastatic-malt->pennylane) (1.17.0)\n",
            "Downloading PennyLane-0.40.0-py3-none-any.whl (2.0 MB)\n",
            "\u001b[2K   \u001b[90m━━━━━━━━━━━━━━━━━━━━━━━━━━━━━━━━━━━━━━━━\u001b[0m \u001b[32m2.0/2.0 MB\u001b[0m \u001b[31m14.9 MB/s\u001b[0m eta \u001b[36m0:00:00\u001b[0m\n",
            "\u001b[?25hDownloading autoray-0.7.1-py3-none-any.whl (930 kB)\n",
            "\u001b[2K   \u001b[90m━━━━━━━━━━━━━━━━━━━━━━━━━━━━━━━━━━━━━━━━\u001b[0m \u001b[32m930.8/930.8 kB\u001b[0m \u001b[31m15.4 MB/s\u001b[0m eta \u001b[36m0:00:00\u001b[0m\n",
            "\u001b[?25hDownloading PennyLane_Lightning-0.40.0-cp311-cp311-manylinux_2_28_x86_64.whl (2.4 MB)\n",
            "\u001b[2K   \u001b[90m━━━━━━━━━━━━━━━━━━━━━━━━━━━━━━━━━━━━━━━━\u001b[0m \u001b[32m2.4/2.4 MB\u001b[0m \u001b[31m28.3 MB/s\u001b[0m eta \u001b[36m0:00:00\u001b[0m\n",
            "\u001b[?25hDownloading rustworkx-0.16.0-cp39-abi3-manylinux_2_17_x86_64.manylinux2014_x86_64.whl (2.1 MB)\n",
            "\u001b[2K   \u001b[90m━━━━━━━━━━━━━━━━━━━━━━━━━━━━━━━━━━━━━━━━\u001b[0m \u001b[32m2.1/2.1 MB\u001b[0m \u001b[31m8.6 MB/s\u001b[0m eta \u001b[36m0:00:00\u001b[0m\n",
            "\u001b[?25hDownloading appdirs-1.4.4-py2.py3-none-any.whl (9.6 kB)\n",
            "Downloading diastatic_malt-2.15.2-py3-none-any.whl (167 kB)\n",
            "\u001b[2K   \u001b[90m━━━━━━━━━━━━━━━━━━━━━━━━━━━━━━━━━━━━━━━━\u001b[0m \u001b[32m167.9/167.9 kB\u001b[0m \u001b[31m5.9 MB/s\u001b[0m eta \u001b[36m0:00:00\u001b[0m\n",
            "\u001b[?25hDownloading tomlkit-0.13.2-py3-none-any.whl (37 kB)\n",
            "Downloading scipy_openblas32-0.3.29.0.0-py3-none-manylinux_2_17_x86_64.manylinux2014_x86_64.whl (8.6 MB)\n",
            "\u001b[2K   \u001b[90m━━━━━━━━━━━━━━━━━━━━━━━━━━━━━━━━━━━━━━━━\u001b[0m \u001b[32m8.6/8.6 MB\u001b[0m \u001b[31m24.1 MB/s\u001b[0m eta \u001b[36m0:00:00\u001b[0m\n",
            "\u001b[?25hInstalling collected packages: appdirs, tomlkit, scipy-openblas32, rustworkx, autoray, diastatic-malt, pennylane-lightning, pennylane\n",
            "Successfully installed appdirs-1.4.4 autoray-0.7.1 diastatic-malt-2.15.2 pennylane-0.40.0 pennylane-lightning-0.40.0 rustworkx-0.16.0 scipy-openblas32-0.3.29.0.0 tomlkit-0.13.2\n"
          ]
        }
      ],
      "source": [
        "pip install pennylane"
      ]
    },
    {
      "cell_type": "markdown",
      "source": [
        "# ***import***"
      ],
      "metadata": {
        "id": "sZq32g3H-AtX"
      }
    },
    {
      "cell_type": "code",
      "source": [
        "import pennylane as qml\n",
        "import numpy as np\n",
        "import matplotlib.pyplot as plt\n",
        "from collections import Counter"
      ],
      "metadata": {
        "id": "YpClm43jjMM4"
      },
      "execution_count": 2,
      "outputs": []
    },
    {
      "cell_type": "markdown",
      "source": [
        "# ***word = \"ABC\" (WORK, ONLY 9 QUBITS)***\n",
        "shorter code\n"
      ],
      "metadata": {
        "id": "RhWgceFWsptt"
      }
    },
    {
      "cell_type": "code",
      "source": [
        "word = \"ABC\"\n",
        "\n",
        "SSL = []\n",
        "for L in word:\n",
        "    letASCII = ord(L) -64\n",
        "    SS = np.binary_repr(letASCII,width=2)\n",
        "    SSL.append(SS)\n",
        "print(SSL)\n",
        "\n",
        "numQubits = (2+1)*3"
      ],
      "metadata": {
        "colab": {
          "base_uri": "https://localhost:8080/"
        },
        "id": "0Y2w2eojpWYp",
        "outputId": "111a7b29-c82f-4a46-8720-51403d39b0f4"
      },
      "execution_count": 3,
      "outputs": [
        {
          "output_type": "stream",
          "name": "stdout",
          "text": [
            "['01', '10', '11']\n"
          ]
        }
      ]
    },
    {
      "source": [
        "\n",
        "numQubits = (2 + 1) * 3\n",
        "\n",
        "qc = qml.device(\"default.qubit\", wires=9, shots=1)  # shots=1 for single measurement outcome\n",
        "\n",
        "@qml.qnode(qc)\n",
        "def prepare_state():\n",
        "    N_W = 9\n",
        "\n",
        "    for i in range(N_W):\n",
        "        if i % 3 == 2:\n",
        "            qml.H(wires=i)\n",
        "            qml.Z(wires=i)\n",
        "        else:\n",
        "            qml.H(wires=i)\n",
        "\n",
        "    A = 0\n",
        "    for s in SSL:\n",
        "        s = s[::-1]\n",
        "        for q in range(2):\n",
        "            if s[q] == '1':\n",
        "                qml.CNOT(wires=[A * 3 + q, A * 3 + 2])\n",
        "        A = A + 1\n",
        "\n",
        "    for j in range(N_W):\n",
        "        if j % 3 != 2:\n",
        "            qml.H(wires=j)\n",
        "\n",
        "    return [qml.sample(wires=j) for j in range(N_W) if j % 3 != 2]\n",
        "\n",
        "\n",
        "results = prepare_state()\n",
        "print(results)\n",
        "\n",
        "circuit = qml.draw(prepare_state)\n",
        "print(circuit())"
      ],
      "cell_type": "code",
      "metadata": {
        "colab": {
          "base_uri": "https://localhost:8080/"
        },
        "id": "rTtFVHNK0W3C",
        "outputId": "79fd628b-cf31-4330-bfa6-0c222da88a5a"
      },
      "execution_count": 4,
      "outputs": [
        {
          "output_type": "stream",
          "name": "stdout",
          "text": [
            "[array(1), array(0), array(0), array(1), array(1), array(1)]\n",
            "0: ──H────╭●──H────┤  Sample\n",
            "1: ──H────│───H────┤  Sample\n",
            "2: ──H──Z─╰X───────┤        \n",
            "3: ──H──H──────────┤  Sample\n",
            "4: ──H────╭●──H────┤  Sample\n",
            "5: ──H──Z─╰X───────┤        \n",
            "6: ──H────╭●──H────┤  Sample\n",
            "7: ──H────│──╭●──H─┤  Sample\n",
            "8: ──H──Z─╰X─╰X────┤        \n"
          ]
        }
      ]
    },
    {
      "source": [
        "binary_word = \"\".join(str(i) for i in results)\n",
        "binary = binary_word[::-1]\n",
        "print(\"binary_word:\", binary)\n",
        "let_index = 0\n",
        "ll = []\n",
        "for i in range(3):\n",
        "    letter = binary[i*2:i*2+2]\n",
        "    let_index=let_index+1\n",
        "    wlet = int(letter,2)\n",
        "    ll.append(chr(wlet+64))\n",
        "ll.reverse()\n",
        "print('The word is ', ll)"
      ],
      "cell_type": "code",
      "metadata": {
        "colab": {
          "base_uri": "https://localhost:8080/"
        },
        "id": "3cNFhqpdx9WV",
        "outputId": "1ea9ab71-cd17-4380-f880-e44b3d6cb983"
      },
      "execution_count": 5,
      "outputs": [
        {
          "output_type": "stream",
          "name": "stdout",
          "text": [
            "binary_word: 111001\n",
            "The word is  ['A', 'B', 'C']\n"
          ]
        }
      ]
    },
    {
      "cell_type": "markdown",
      "source": [
        "# word = \"FILE\" (WORK, ONLY 20 QUBITS)\n"
      ],
      "metadata": {
        "id": "-4BudF_m7T-z"
      }
    },
    {
      "cell_type": "code",
      "source": [
        "word = \"FILE\"\n",
        "\n",
        "SSL = []\n",
        "for L in word:\n",
        "    letASCII = ord(L) -64\n",
        "    SS = np.binary_repr(letASCII,width=4)\n",
        "    SSL.append(SS)\n",
        "print(SSL)\n",
        "\n",
        "numQubits = (4+1)*4"
      ],
      "metadata": {
        "colab": {
          "base_uri": "https://localhost:8080/"
        },
        "outputId": "1f7ac70a-d686-46b3-b35f-12bf95bceff5",
        "id": "y8WfGuE-7T-1"
      },
      "execution_count": 6,
      "outputs": [
        {
          "output_type": "stream",
          "name": "stdout",
          "text": [
            "['0110', '1001', '1100', '0101']\n"
          ]
        }
      ]
    },
    {
      "source": [
        "\n",
        "numQubits = (4+1)*4\n",
        "\n",
        "qc = qml.device(\"default.qubit\", wires=20, shots=1)  # shots=1 for single measurement outcome\n",
        "\n",
        "@qml.qnode(qc)\n",
        "def prepare_state():\n",
        "    N_W = 20\n",
        "\n",
        "    for i in range(N_W):\n",
        "        if i % 5 == 4:\n",
        "            qml.H(wires=i)\n",
        "            qml.Z(wires=i)\n",
        "        else:\n",
        "            qml.H(wires=i)\n",
        "\n",
        "    A = 0\n",
        "    for s in SSL:\n",
        "        s = s[::-1]\n",
        "        for q in range(4):\n",
        "            if s[q] == '1':\n",
        "                qml.CNOT(wires=[A * 5 + q, A * 5 + 4])\n",
        "        A = A + 1\n",
        "\n",
        "    for j in range(N_W):\n",
        "        if j % 5 != 4:\n",
        "            qml.H(wires=j)\n",
        "\n",
        "    return [qml.sample(wires=j) for j in range(N_W) if j % 5 != 4]\n",
        "\n",
        "\n",
        "results = prepare_state()\n",
        "print(results)\n",
        "\n",
        "circuit = qml.draw(prepare_state)\n",
        "print(circuit())"
      ],
      "cell_type": "code",
      "metadata": {
        "colab": {
          "base_uri": "https://localhost:8080/"
        },
        "outputId": "19684ff2-ff86-4eb3-a9e2-5e3ea33ac1e6",
        "id": "KvJIiwmT7T-2"
      },
      "execution_count": 7,
      "outputs": [
        {
          "output_type": "stream",
          "name": "stdout",
          "text": [
            "[array(0), array(1), array(1), array(0), array(1), array(0), array(0), array(1), array(0), array(0), array(1), array(1), array(1), array(0), array(1), array(0)]\n",
            " 0: ──H──H──────────┤  Sample\n",
            " 1: ──H────╭●──H────┤  Sample\n",
            " 2: ──H────│──╭●──H─┤  Sample\n",
            " 3: ──H────│──│───H─┤  Sample\n",
            " 4: ──H──Z─╰X─╰X────┤        \n",
            " 5: ──H────╭●──H────┤  Sample\n",
            " 6: ──H────│───H────┤  Sample\n",
            " 7: ──H────│───H────┤  Sample\n",
            " 8: ──H────│──╭●──H─┤  Sample\n",
            " 9: ──H──Z─╰X─╰X────┤        \n",
            "10: ──H──H──────────┤  Sample\n",
            "11: ──H──H──────────┤  Sample\n",
            "12: ──H────╭●──H────┤  Sample\n",
            "13: ──H────│──╭●──H─┤  Sample\n",
            "14: ──H──Z─╰X─╰X────┤        \n",
            "15: ──H────╭●──H────┤  Sample\n",
            "16: ──H────│───H────┤  Sample\n",
            "17: ──H────│──╭●──H─┤  Sample\n",
            "18: ──H────│──│───H─┤  Sample\n",
            "19: ──H──Z─╰X─╰X────┤        \n"
          ]
        }
      ]
    },
    {
      "source": [
        "binary_word = \"\".join(str(i) for i in results)\n",
        "binary = binary_word[::-1]\n",
        "print(\"binary_word:\", binary)\n",
        "let_index = 0\n",
        "ll = []\n",
        "for i in range(4):\n",
        "    letter = binary[i*4:i*4+4]\n",
        "    let_index=let_index+1\n",
        "    wlet = int(letter,2)\n",
        "    ll.append(chr(wlet+64))\n",
        "ll.reverse()\n",
        "print('The word is ', ll)"
      ],
      "cell_type": "code",
      "metadata": {
        "colab": {
          "base_uri": "https://localhost:8080/"
        },
        "outputId": "005dc137-a850-48d6-fff1-952c7de1b4b1",
        "id": "ftPwvGqv7T-2"
      },
      "execution_count": 8,
      "outputs": [
        {
          "output_type": "stream",
          "name": "stdout",
          "text": [
            "binary_word: 0101110010010110\n",
            "The word is  ['F', 'I', 'L', 'E']\n"
          ]
        }
      ]
    },
    {
      "cell_type": "markdown",
      "source": [
        "# word = \"APPLE\" (DID NOT WORK, 30 QUBITS, SESSION CRASHING)"
      ],
      "metadata": {
        "id": "k73ebx4e2tHW"
      }
    },
    {
      "cell_type": "code",
      "source": [
        "word = \"APPLE\"\n",
        "\n",
        "SSL = []\n",
        "for L in word:\n",
        "    letASCII = ord(L) -64\n",
        "    SS = np.binary_repr(letASCII,width=5)\n",
        "    SSL.append(SS)\n",
        "print(SSL)\n",
        "\n",
        "numQubits = (5+1)*5"
      ],
      "metadata": {
        "colab": {
          "base_uri": "https://localhost:8080/"
        },
        "outputId": "9c1edcd3-1605-445f-93c0-574854e451d3",
        "id": "6_0ok7Gx2tHW"
      },
      "execution_count": 9,
      "outputs": [
        {
          "output_type": "stream",
          "name": "stdout",
          "text": [
            "['00001', '10000', '10000', '01100', '00101']\n"
          ]
        }
      ]
    },
    {
      "source": [
        "numQubits = (5+1)*5\n",
        "\n",
        "qc = qml.device(\"default.qubit\", wires=30, shots=1)  # shots=1 for single measurement outcome\n",
        "\n",
        "@qml.qnode(qc)\n",
        "def prepare_state():\n",
        "    N_W = 30\n",
        "\n",
        "    for i in range(N_W):\n",
        "        if i % 6 == 5:\n",
        "            qml.H(wires=i)\n",
        "            qml.Z(wires=i)\n",
        "        else:\n",
        "            qml.H(wires=i)\n",
        "\n",
        "    A = 0\n",
        "    for s in SSL:\n",
        "        s = s[::-1]\n",
        "        for q in range(5):\n",
        "            if s[q] == '1':\n",
        "                qml.CNOT(wires=[A * 5 + q, A * 6 + 5])\n",
        "        A = A + 1\n",
        "\n",
        "    for j in range(N_W):\n",
        "        if j % 6 != 5:\n",
        "            qml.H(wires=j)\n",
        "\n",
        "    return [qml.sample(wires=j) for j in range(N_W) if j % 6 != 5]\n",
        "\n",
        "\n",
        "results = prepare_state()\n",
        "print(results)\n",
        "\n",
        "circuit = qml.draw(prepare_state)\n",
        "print(circuit())"
      ],
      "cell_type": "code",
      "metadata": {
        "id": "Cf2px4ye2tHX"
      },
      "execution_count": null,
      "outputs": []
    },
    {
      "source": [
        "binary_word = \"\".join(str(i) for i in results)\n",
        "binary = binary_word[::-1]\n",
        "print(\"binary_word:\", binary)\n",
        "let_index = 0\n",
        "ll = []\n",
        "for i in range(5):\n",
        "    letter = binary[i*5:i*5+5]\n",
        "    let_index=let_index+1\n",
        "    wlet = int(letter,2)\n",
        "    ll.append(chr(wlet+64))\n",
        "ll.reverse()\n",
        "print('The word is ', ll)"
      ],
      "cell_type": "code",
      "metadata": {
        "id": "Jph40fpM2tHX"
      },
      "execution_count": null,
      "outputs": []
    }
  ]
}